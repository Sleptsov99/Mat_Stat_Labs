{
  "nbformat": 4,
  "nbformat_minor": 0,
  "metadata": {
    "colab": {
      "provenance": []
    },
    "kernelspec": {
      "name": "python3",
      "display_name": "Python 3"
    },
    "language_info": {
      "name": "python"
    }
  },
  "cells": [
    {
      "cell_type": "markdown",
      "source": [
        "## Задание 1\n",
        "Даны две выборки  $X_1∼N(μ_1,σ_1^2),  X_2∼N(μ_2,σ_2^2) $ объемов $n_1, n_2$ соответственно, со следующими параметрами  $μ_1=0, μ_2=0, σ_1^2=2, σ_2^2=1$. Оцениваемая функция:  $τ=σ_1^2 / σ_2^2 ;  μ_1,μ_2$  известны.\n",
        "\n",
        "$𝑋_{i,1}, … ,𝑋_{i,n_i}$ независимые нормальные случайные величины, значит случайная величина $Y_i=\\sum _{j=1}^{n_i}\\left({\\frac {X_{i, j}-\\mu _i}{\\sigma _i}}\\right)^{2}$ имеет распределение $\\chi ^{2}(n_i)$\n",
        "\n",
        "### Распределение Фишера\n",
        "Пусть $Y_{1},Y_{2}$ — две независимые случайные величины, имеющие распределение хи-квадрат: $Y_{i}\\sim \\chi ^{2}(d_{i})$. Тогда распределение случайной величины\n",
        "$F={\\frac {Y_{1}/d_{1}}{Y_{2}/d_{2}}}$ называется распределением Фишера со степенями свободы $d_{1}, d_{2}$. $F\\sim \\mathrm {F} (d_{1},d_{2})$\n",
        "\n",
        "Подставим $Y_1, Y_2$ в распределение Фишера:\n",
        "$$\\frac{Y_1 / n_1}{Y_2 / n_2} = \\frac{n_2 \\sum_{i=1}^{n_1} (X_{1,i} - \\mu _1)^2}{n_1 \\sum_{i=1}^{n_2} (X_{2,i} - \\mu _2)^2} \\cdot \\frac{1}{\\tau} \\sim \\mathrm {F} (n_{1},n_{2})$$\n",
        "\n",
        "### Доверительный интервал  \n",
        "$$P(Z_{α/2}(n_1, n_2) ≤ \\frac{Y_1 / n_1}{Y_2 / n_2} = \\frac{n_2 \\sum_{i=1}^{n_1} (X_{1,i} - \\mu _1)^2}{n_1 \\sum_{i=1}^{n_2} (X_{2,i} - \\mu _2)^2} \\cdot \\frac{1}{\\tau} ≤Z_{1−α/2}(n_1, n_2))≥1−α $$\n",
        "\n",
        "Так как $Z_{α/2}(n_1, n_2) = \\frac{1}{Z_{1 - \\alpha /2}(n_2, n_1)}$, получаем:\n",
        "\n",
        "$$τ ∈ \\left[Z_{α/2} (n_2, n_1) \\frac{n_1 \\sum_{i=1}^{n_2}{(X_{2,i} - \\mu_2)^2}}{n_2 \\sum_{i=1}^{n_1}{(X_{1,i} - \\mu_1)^2}};  Z_{1 - α/2}(n_2, n_1) \\frac{n_1 \\sum_{i=1}^{n_2}{(X_{2,i} - \\mu_2)^2}}{n_2 \\sum_{i=1}^{n_1}{(X_{1,i} - \\mu_1)^2}}\\right]$$\n",
        "\n",
        "\n"
      ],
      "metadata": {
        "id": "NE9P1bkfrIB6"
      }
    },
    {
      "cell_type": "code",
      "source": [
        "import numpy as np\n",
        "import scipy as sc\n",
        "\n",
        "def func(n):\n",
        "    cnt = 0\n",
        "    m1 = 0\n",
        "    m2 = 0\n",
        "    d1 = 2\n",
        "    d2 = 1\n",
        "    alpha = 0.05\n",
        "    z1 = sc.stats.f.ppf(alpha / 2, n, n)\n",
        "    z2 = sc.stats.f.ppf(1 - alpha / 2, n, n)\n",
        "    tao = d1 / d2\n",
        "\n",
        "\n",
        "    for i in range(1000):\n",
        "        sample_1 = np.random.normal(m1, np.sqrt(d1), n)\n",
        "        sample_2 = np.random.normal(m2, np.sqrt(d2), n)\n",
        "        statistic = (n * np.sum((sample_1 - m1) ** 2)) / (n * np.sum((sample_2 - m2) ** 2))\n",
        "        lower_bound = statistic / z2\n",
        "        upper_bound = statistic / z1\n",
        "        if lower_bound < tao < upper_bound:\n",
        "            cnt += 1\n",
        "\n",
        "    print(f\"Для выборки размера {n} количество параметров внутри интервала: {cnt}\")\n",
        "    print(f\"Вероятность попадания: {cnt / 10}%\")\n",
        "\n",
        "func(25)\n",
        "func(10000)"
      ],
      "metadata": {
        "colab": {
          "base_uri": "https://localhost:8080/"
        },
        "id": "MmJVYuBtWo31",
        "outputId": "d74c1e63-471a-4053-894d-3e7a8d0cf629"
      },
      "execution_count": null,
      "outputs": [
        {
          "output_type": "stream",
          "name": "stdout",
          "text": [
            "Для выборки размера 25 количество параметров внутри интервала: 948\n",
            "Вероятность попадания: 94.8%\n",
            "Для выборки размера 10000 количество параметров внутри интервала: 952\n",
            "Вероятность попадания: 95.2%\n"
          ]
        }
      ]
    },
    {
      "cell_type": "markdown",
      "source": [
        "## Задание 2\n",
        "Построить асимптотический доверительный интервал уровня $1 - \\alpha$ для параметра $p$ распределения $Geom(p)$, $p=0.7$\n",
        "\n",
        "ЦПТ:\n",
        "$$\\sqrt{n}\\frac{\\overline{X_n} - \\mu}{\\sigma} \\sim N(0, 1)$$\n",
        "$$\\mu = \\frac{1}{p}$$\n",
        "\n",
        "Заменим дисперсию на выборочную\n",
        "\n",
        "Получаем:\n",
        "$$\\sqrt{n}\\frac{\\overline{X_n} - \\frac{1}{p}}{S} \\sim N(0, 1)$$\n",
        "\n",
        "\n",
        "###Доверительный интервал\n",
        "$$P\\left(-Z_{α/2}(n) ≤ \\sqrt{n}\\frac{\\overline{X_n} - \\frac{1}{p}}{S} ≤Z_{α/2}(n)\\right)≥1−α $$\n",
        "\n",
        "$$p \\in \\left[ \\frac{1}{\\overline{X} + Z_{α/2}\\frac{S}{\\sqrt{n}}}, \\frac{1}{\\overline{X} - Z_{α/2}\\frac{S}{\\sqrt{n}}} \\right]$$\n",
        "\n"
      ],
      "metadata": {
        "id": "or6mPrj4fHzK"
      }
    },
    {
      "cell_type": "code",
      "source": [
        "import numpy as np\n",
        "import scipy as sc\n",
        "\n",
        "def func(n):\n",
        "    cnt = 0\n",
        "    p = 0.7\n",
        "    alpha = 0.05\n",
        "    z = sc.stats.norm.ppf(1 - alpha / 2)\n",
        "\n",
        "\n",
        "    for i in range(1000):\n",
        "        sample = np.random.geometric(p, size=n)\n",
        "        lower_bound = 1 / (np.mean(sample) + z * np.sqrt(np.var(sample) / n))\n",
        "        upper_bound = 1 / (np.mean(sample) - z * np.sqrt(np.var(sample) / n))\n",
        "        # upper_bound = 1 / (np.mean(sample) - z * np.sqrt(n - 1 * np.var(sample)) / n)\n",
        "        if lower_bound < p < upper_bound:\n",
        "            cnt += 1\n",
        "\n",
        "    print(f\"Для выборки размера {n} количество параметров внутри интервала: {cnt}\")\n",
        "    print(f\"Вероятность попадания: {cnt / 10}%\")\n",
        "\n",
        "func(25)\n",
        "func(10000)"
      ],
      "metadata": {
        "colab": {
          "base_uri": "https://localhost:8080/"
        },
        "id": "_PakrAnZZJko",
        "outputId": "5ddb033c-cb49-40bf-c76c-6dbd8e0028f2"
      },
      "execution_count": null,
      "outputs": [
        {
          "output_type": "stream",
          "name": "stdout",
          "text": [
            "Для выборки размера 25 количество параметров внутри интервала: 892\n",
            "Вероятность попадания: 89.2%\n",
            "Для выборки размера 10000 количество параметров внутри интервала: 956\n",
            "Вероятность попадания: 95.6%\n"
          ]
        }
      ]
    }
  ]
}